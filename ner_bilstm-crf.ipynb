{
 "cells": [
  {
   "cell_type": "code",
   "execution_count": 7,
   "metadata": {},
   "outputs": [],
   "source": [
    "import pandas as pd\n",
    "import numpy as np\n",
    "from matplotlib import pyplot as plt\n",
    "import warnings\n",
    "warnings.filterwarnings(\"ignore\")"
   ]
  },
  {
   "cell_type": "code",
   "execution_count": 8,
   "metadata": {},
   "outputs": [
    {
     "data": {
      "text/html": [
       "<div>\n",
       "<style scoped>\n",
       "    .dataframe tbody tr th:only-of-type {\n",
       "        vertical-align: middle;\n",
       "    }\n",
       "\n",
       "    .dataframe tbody tr th {\n",
       "        vertical-align: top;\n",
       "    }\n",
       "\n",
       "    .dataframe thead th {\n",
       "        text-align: right;\n",
       "    }\n",
       "</style>\n",
       "<table border=\"1\" class=\"dataframe\">\n",
       "  <thead>\n",
       "    <tr style=\"text-align: right;\">\n",
       "      <th></th>\n",
       "      <th>Sentence #</th>\n",
       "      <th>Word</th>\n",
       "      <th>POS</th>\n",
       "      <th>Tag</th>\n",
       "    </tr>\n",
       "  </thead>\n",
       "  <tbody>\n",
       "    <tr>\n",
       "      <th>0</th>\n",
       "      <td>Sentence: 1</td>\n",
       "      <td>Thousands</td>\n",
       "      <td>NNS</td>\n",
       "      <td>O</td>\n",
       "    </tr>\n",
       "    <tr>\n",
       "      <th>1</th>\n",
       "      <td>NaN</td>\n",
       "      <td>of</td>\n",
       "      <td>IN</td>\n",
       "      <td>O</td>\n",
       "    </tr>\n",
       "    <tr>\n",
       "      <th>2</th>\n",
       "      <td>NaN</td>\n",
       "      <td>demonstrators</td>\n",
       "      <td>NNS</td>\n",
       "      <td>O</td>\n",
       "    </tr>\n",
       "    <tr>\n",
       "      <th>3</th>\n",
       "      <td>NaN</td>\n",
       "      <td>have</td>\n",
       "      <td>VBP</td>\n",
       "      <td>O</td>\n",
       "    </tr>\n",
       "    <tr>\n",
       "      <th>4</th>\n",
       "      <td>NaN</td>\n",
       "      <td>marched</td>\n",
       "      <td>VBN</td>\n",
       "      <td>O</td>\n",
       "    </tr>\n",
       "  </tbody>\n",
       "</table>\n",
       "</div>"
      ],
      "text/plain": [
       "    Sentence #           Word  POS Tag\n",
       "0  Sentence: 1      Thousands  NNS   O\n",
       "1          NaN             of   IN   O\n",
       "2          NaN  demonstrators  NNS   O\n",
       "3          NaN           have  VBP   O\n",
       "4          NaN        marched  VBN   O"
      ]
     },
     "execution_count": 8,
     "metadata": {},
     "output_type": "execute_result"
    }
   ],
   "source": [
    "#Import dataset\n",
    "data = pd.read_csv(\"ner_dataset.csv\", encoding=\"latin1\")\n",
    "data.head()"
   ]
  },
  {
   "cell_type": "code",
   "execution_count": 9,
   "metadata": {},
   "outputs": [
    {
     "data": {
      "text/html": [
       "<div>\n",
       "<style scoped>\n",
       "    .dataframe tbody tr th:only-of-type {\n",
       "        vertical-align: middle;\n",
       "    }\n",
       "\n",
       "    .dataframe tbody tr th {\n",
       "        vertical-align: top;\n",
       "    }\n",
       "\n",
       "    .dataframe thead th {\n",
       "        text-align: right;\n",
       "    }\n",
       "</style>\n",
       "<table border=\"1\" class=\"dataframe\">\n",
       "  <thead>\n",
       "    <tr style=\"text-align: right;\">\n",
       "      <th></th>\n",
       "      <th>Sentence</th>\n",
       "      <th>Word</th>\n",
       "      <th>Tag</th>\n",
       "    </tr>\n",
       "  </thead>\n",
       "  <tbody>\n",
       "    <tr>\n",
       "      <th>0</th>\n",
       "      <td>Sentence: 1</td>\n",
       "      <td>Thousands</td>\n",
       "      <td>O</td>\n",
       "    </tr>\n",
       "    <tr>\n",
       "      <th>1</th>\n",
       "      <td>Sentence: 1</td>\n",
       "      <td>of</td>\n",
       "      <td>O</td>\n",
       "    </tr>\n",
       "    <tr>\n",
       "      <th>2</th>\n",
       "      <td>Sentence: 1</td>\n",
       "      <td>demonstrators</td>\n",
       "      <td>O</td>\n",
       "    </tr>\n",
       "    <tr>\n",
       "      <th>3</th>\n",
       "      <td>Sentence: 1</td>\n",
       "      <td>have</td>\n",
       "      <td>O</td>\n",
       "    </tr>\n",
       "    <tr>\n",
       "      <th>4</th>\n",
       "      <td>Sentence: 1</td>\n",
       "      <td>marched</td>\n",
       "      <td>O</td>\n",
       "    </tr>\n",
       "  </tbody>\n",
       "</table>\n",
       "</div>"
      ],
      "text/plain": [
       "      Sentence           Word Tag\n",
       "0  Sentence: 1      Thousands   O\n",
       "1  Sentence: 1             of   O\n",
       "2  Sentence: 1  demonstrators   O\n",
       "3  Sentence: 1           have   O\n",
       "4  Sentence: 1        marched   O"
      ]
     },
     "execution_count": 9,
     "metadata": {},
     "output_type": "execute_result"
    }
   ],
   "source": [
    "#Clean dataframe\n",
    "data = data.rename(columns={\"Sentence #\": \"Sentence\"})\n",
    "data.drop(['POS'], axis=1, inplace=True)\n",
    "data[\"Tag\"] = data[\"Tag\"].str.upper()\n",
    "data = data.fillna(method='ffill')\n",
    "data.head()"
   ]
  },
  {
   "cell_type": "code",
   "execution_count": 37,
   "metadata": {},
   "outputs": [
    {
     "data": {
      "text/plain": [
       "array(['O', 'B-GEO', 'B-GPE', 'B-PER', 'I-GEO', 'B-ORG', 'I-ORG', 'B-TIM',\n",
       "       'B-ART', 'I-ART', 'I-PER', 'I-GPE', 'I-TIM', 'B-NAT', 'B-EVE',\n",
       "       'I-EVE', 'I-NAT'], dtype=object)"
      ]
     },
     "execution_count": 37,
     "metadata": {},
     "output_type": "execute_result"
    }
   ],
   "source": [
    "#List of non-O unique tags\n",
    "data['Tag'].unique()"
   ]
  },
  {
   "cell_type": "code",
   "execution_count": 10,
   "metadata": {},
   "outputs": [
    {
     "data": {
      "image/png": "[encoded data removed]",
      "text/plain": [
       "<Figure size 576x432 with 1 Axes>"
      ]
     },
     "metadata": {
      "needs_background": "light"
     },
     "output_type": "display_data"
    }
   ],
   "source": [
    "#Visualise distribution of unique non-O tags\n",
    "plt.figure(figsize=(8, 6))\n",
    "data.Tag[data.Tag != 'O']\\\n",
    "    .value_counts()\\\n",
    "    .plot\\\n",
    "    .barh();"
   ]
  },
  {
   "cell_type": "code",
   "execution_count": 11,
   "metadata": {},
   "outputs": [],
   "source": [
    "#Retrive sentences and tags from dataset\n",
    "class get_sentences(object):\n",
    "    \n",
    "    def __init__(self, data):\n",
    "        self.sent = 1\n",
    "        self.dataset = data\n",
    "        self.empty = False\n",
    "        agg_func = lambda s: [(w, t) for w,t in zip(s[\"Word\"].values.tolist(),\n",
    "                                                    s[\"Tag\"].values.tolist())]\n",
    "        self.grouped = self.dataset.groupby(\"Sentence\").apply(agg_func)\n",
    "        self.sentences = [s for s in self.grouped]\n",
    "        \n",
    "getter = get_sentences(data)\n",
    "sentences = getter.sentences"
   ]
  },
  {
   "cell_type": "code",
   "execution_count": 12,
   "metadata": {},
   "outputs": [
    {
     "name": "stdout",
     "output_type": "stream",
     "text": [
      "Raw sentence: SpaceShipOne was financed with more than $ 20 million from Paul Allen , a co-founder of the Microsoft Corporation .\n",
      "Tagged sentence:\n",
      "('SpaceShipOne', 'B-ART')\n",
      "('was', 'O')\n",
      "('financed', 'O')\n",
      "('with', 'O')\n",
      "('more', 'O')\n",
      "('than', 'O')\n",
      "('$', 'O')\n",
      "('20', 'O')\n",
      "('million', 'O')\n",
      "('from', 'O')\n",
      "('Paul', 'B-PER')\n",
      "('Allen', 'I-PER')\n",
      "(',', 'O')\n",
      "('a', 'O')\n",
      "('co-founder', 'O')\n",
      "('of', 'O')\n",
      "('the', 'O')\n",
      "('Microsoft', 'B-ORG')\n",
      "('Corporation', 'I-ORG')\n",
      "('.', 'O')\n"
     ]
    }
   ],
   "source": [
    "#Compare raw and tagged sentences\n",
    "raw_sentence = [\" \".join([s[0] for s in sent]) for sent in getter.sentences]\n",
    "print(\"Raw sentence: {}\".format(raw_sentence[27]))\n",
    "\n",
    "print(\"Tagged sentence:\" + \"\\n\" + \"\\n\".join(map(str, sentences[27])))"
   ]
  },
  {
   "cell_type": "code",
   "execution_count": 13,
   "metadata": {},
   "outputs": [],
   "source": [
    "#Define attributes\n",
    "MAX_LEN = max([len(s) for s in sentences])\n",
    "DIM_EMBEDDINGS = 50"
   ]
  },
  {
   "cell_type": "code",
   "execution_count": 14,
   "metadata": {},
   "outputs": [],
   "source": [
    "#Map sentences and NER tags\n",
    "from future.utils import iteritems\n",
    "\n",
    "words = list(set(data[\"Word\"].values))\n",
    "number_words = len(words)\n",
    "\n",
    "word2idx = {w: i+1 for i, w in enumerate(words)}\n",
    "idx2word = {i: w for w, i in iteritems(word2idx)}\n",
    "\n",
    "tags = list(set(data[\"Tag\"].values))\n",
    "number_tags = len(tags)\n",
    "\n",
    "tag2idx = {t: i+1 for i, t in enumerate(tags)}\n",
    "idx2tag = {i: w for w, i in iteritems(tag2idx)}"
   ]
  },
  {
   "cell_type": "code",
   "execution_count": 15,
   "metadata": {},
   "outputs": [
    {
     "name": "stdout",
     "output_type": "stream",
     "text": [
      "[[34820  7807 18097 ...     0     0     0]\n",
      " [15548 30864  2813 ...     0     0     0]\n",
      " [22913 28180 18530 ...     0     0     0]\n",
      " ...\n",
      " [18752 23648  4377 ...     0     0     0]\n",
      " [25477 32458 28498 ...     0     0     0]\n",
      " [28155 18824  8459 ...     0     0     0]]\n"
     ]
    }
   ],
   "source": [
    "#Pad sequence data \n",
    "from tensorflow.keras.preprocessing.sequence import pad_sequences\n",
    "\n",
    "X = [[word2idx[w[0]] for w in s] for s in sentences]\n",
    "X = pad_sequences(maxlen=MAX_LEN, sequences=X, padding=\"post\")\n",
    "print(X)"
   ]
  },
  {
   "cell_type": "code",
   "execution_count": 16,
   "metadata": {},
   "outputs": [],
   "source": [
    "#Pad sequence data \n",
    "y = [[tag2idx[w[1]] for w in s] for s in sentences]\n",
    "y = pad_sequences(maxlen=MAX_LEN, sequences=y, padding=\"post\")\n",
    "\n",
    "#One hot encode \n",
    "from tensorflow.keras.utils import to_categorical\n",
    "y = [to_categorical(i, num_classes=number_tags+1) for i in y]"
   ]
  },
  {
   "cell_type": "code",
   "execution_count": 17,
   "metadata": {},
   "outputs": [],
   "source": [
    "#Train/test split\n",
    "from sklearn.model_selection import train_test_split\n",
    "X_train, X_test, y_train, y_test = train_test_split(X, y, test_size=0.2)"
   ]
  },
  {
   "cell_type": "code",
   "execution_count": 18,
   "metadata": {},
   "outputs": [],
   "source": [
    "#Initialise model \n",
    "from keras.models import Model\n",
    "from keras.layers import Input, Embedding, LSTM, Dense, Dropout, TimeDistributed, Bidirectional\n",
    "from keras_contrib.layers import CRF\n",
    "\n",
    "#Input layer\n",
    "input = Input(shape=(MAX_LEN,))\n",
    "\n",
    "#Embedding layer\n",
    "model = Embedding(input_dim=number_words+1, \n",
    "                  input_length=MAX_LEN,\n",
    "                  output_dim=DIM_EMBEDDINGS)(input)\n",
    "\n",
    "#BiLSTM layer\n",
    "model = Bidirectional(LSTM(units=DIM_EMBEDDINGS, \n",
    "                           return_sequences=True, \n",
    "                           dropout=0.5, \n",
    "                           recurrent_dropout=0.5))(model)\n",
    "model = LSTM(units=DIM_EMBEDDINGS*2,\n",
    "             return_sequences=True, \n",
    "             dropout=0.5, \n",
    "             recurrent_dropout=0.5)(model)\n",
    "\n",
    "#TimeDistributed layer\n",
    "model = TimeDistributed(Dense(number_tags+1, activation=\"relu\"))(model)\n",
    "\n",
    "#CRF layer\n",
    "crf = CRF(number_tags+1)  \n",
    "out = crf(model)  \n",
    "\n",
    "model = Model(input, out)"
   ]
  },
  {
   "cell_type": "code",
   "execution_count": 19,
   "metadata": {},
   "outputs": [
    {
     "name": "stdout",
     "output_type": "stream",
     "text": [
      "Model: \"model_1\"\n",
      "_________________________________________________________________\n",
      "Layer (type)                 Output Shape              Param #   \n",
      "=================================================================\n",
      "input_1 (InputLayer)         (None, 104)               0         \n",
      "_________________________________________________________________\n",
      "embedding_1 (Embedding)      (None, 104, 50)           1758950   \n",
      "_________________________________________________________________\n",
      "bidirectional_1 (Bidirection (None, 104, 100)          40400     \n",
      "_________________________________________________________________\n",
      "lstm_2 (LSTM)                (None, 104, 100)          80400     \n",
      "_________________________________________________________________\n",
      "time_distributed_1 (TimeDist (None, 104, 18)           1818      \n",
      "_________________________________________________________________\n",
      "crf_1 (CRF)                  (None, 104, 18)           702       \n",
      "=================================================================\n",
      "Total params: 1,882,270\n",
      "Trainable params: 1,882,270\n",
      "Non-trainable params: 0\n",
      "_________________________________________________________________\n"
     ]
    }
   ],
   "source": [
    "#Compile model \n",
    "model.compile(optimizer=\"rmsprop\", \n",
    "              loss=crf.loss_function, \n",
    "              metrics=[crf.accuracy, \"accuracy\"])\n",
    "model.summary()"
   ]
  },
  {
   "cell_type": "code",
   "execution_count": 20,
   "metadata": {},
   "outputs": [
    {
     "name": "stdout",
     "output_type": "stream",
     "text": [
      "Train on 30693 samples, validate on 7674 samples\n",
      "Epoch 1/10\n",
      "30693/30693 [==============================] - 323s 11ms/step - loss: 0.1162 - crf_viterbi_accuracy: 0.9680 - accuracy: 0.7900 - val_loss: 0.0399 - val_crf_viterbi_accuracy: 0.9829 - val_accuracy: 0.9829\n",
      "Epoch 2/10\n",
      "30693/30693 [==============================] - 289s 9ms/step - loss: 0.0262 - crf_viterbi_accuracy: 0.9860 - accuracy: 0.7900 - val_loss: 0.0141 - val_crf_viterbi_accuracy: 0.9882 - val_accuracy: 0.9882\n",
      "Epoch 3/10\n",
      "30693/30693 [==============================] - 475s 15ms/step - loss: 0.0083 - crf_viterbi_accuracy: 0.9881 - accuracy: 0.7900 - val_loss: 0.0015 - val_crf_viterbi_accuracy: 0.9889 - val_accuracy: 0.9889\n",
      "Epoch 4/10\n",
      "30693/30693 [==============================] - 337s 11ms/step - loss: -0.0053 - crf_viterbi_accuracy: 0.9895 - accuracy: 0.7900 - val_loss: -0.0104 - val_crf_viterbi_accuracy: 0.9894 - val_accuracy: 0.9894\n",
      "Epoch 5/10\n",
      "30693/30693 [==============================] - 319s 10ms/step - loss: -0.0171 - crf_viterbi_accuracy: 0.9903 - accuracy: 0.7900 - val_loss: -0.0217 - val_crf_viterbi_accuracy: 0.9901 - val_accuracy: 0.9901\n",
      "Epoch 6/10\n",
      "30693/30693 [==============================] - 295s 10ms/step - loss: -0.0284 - crf_viterbi_accuracy: 0.9910 - accuracy: 0.7900 - val_loss: -0.0328 - val_crf_viterbi_accuracy: 0.9908 - val_accuracy: 0.9908\n",
      "Epoch 7/10\n",
      "30693/30693 [==============================] - 289s 9ms/step - loss: -0.0392 - crf_viterbi_accuracy: 0.9917 - accuracy: 0.7900 - val_loss: -0.0432 - val_crf_viterbi_accuracy: 0.9913 - val_accuracy: 0.9913\n",
      "Epoch 8/10\n",
      "30693/30693 [==============================] - 303s 10ms/step - loss: -0.0497 - crf_viterbi_accuracy: 0.9923 - accuracy: 0.7900 - val_loss: -0.0527 - val_crf_viterbi_accuracy: 0.9913 - val_accuracy: 0.9913\n",
      "Epoch 9/10\n",
      "30693/30693 [==============================] - 321s 10ms/step - loss: -0.0602 - crf_viterbi_accuracy: 0.9926 - accuracy: 0.7900 - val_loss: -0.0626 - val_crf_viterbi_accuracy: 0.9912 - val_accuracy: 0.9912\n",
      "Epoch 10/10\n",
      "30693/30693 [==============================] - 318s 10ms/step - loss: -0.0699 - crf_viterbi_accuracy: 0.9930 - accuracy: 0.7900 - val_loss: -0.0724 - val_crf_viterbi_accuracy: 0.9920 - val_accuracy: 0.9920\n"
     ]
    }
   ],
   "source": [
    "history = model.fit(X_train, np.array(y_train), batch_size=32, epochs=10, validation_split=0.2, verbose=1)"
   ]
  },
  {
   "cell_type": "code",
   "execution_count": 126,
   "metadata": {},
   "outputs": [
    {
     "data": {
      "image/png": "[encoded data removed]",
      "text/plain": [
       "<Figure size 432x288 with 1 Axes>"
      ]
     },
     "metadata": {
      "needs_background": "light"
     },
     "output_type": "display_data"
    }
   ],
   "source": [
    "# Visualising model accuracy\n",
    "plt.plot(history.history['crf_viterbi_accuracy'])\n",
    "plt.plot(history.history['val_crf_viterbi_accuracy'])\n",
    "plt.title('Model Accuracy')\n",
    "plt.ylabel('Accuracy')\n",
    "plt.xlabel('Epoch')\n",
    "plt.legend(['Train', 'Test'])\n",
    "plt.show()"
   ]
  },
  {
   "cell_type": "code",
   "execution_count": 127,
   "metadata": {},
   "outputs": [
    {
     "data": {
      "image/png": "[encoded data removed]",
      "text/plain": [
       "<Figure size 432x288 with 1 Axes>"
      ]
     },
     "metadata": {
      "needs_background": "light"
     },
     "output_type": "display_data"
    }
   ],
   "source": [
    "# Visualising model loss\n",
    "plt.plot(history.history['loss'])\n",
    "plt.plot(history.history['val_loss'])\n",
    "plt.title('Model Loss')\n",
    "plt.ylabel('Loss')\n",
    "plt.xlabel('Epoch')\n",
    "plt.legend(['Train', 'Test'])\n",
    "plt.show()"
   ]
  },
  {
   "cell_type": "code",
   "execution_count": 24,
   "metadata": {},
   "outputs": [
    {
     "name": "stdout",
     "output_type": "stream",
     "text": [
      "              precision    recall  f1-score   support\n",
      "\n",
      "           O       0.99      0.99      0.99    177741\n",
      "       I-NAT       0.00      0.00      0.00         8\n",
      "       B-GEO       0.84      0.88      0.86      7593\n",
      "       I-ART       0.00      0.00      0.00        57\n",
      "       I-GPE       0.77      0.55      0.64        44\n",
      "       I-EVE       0.00      0.00      0.00        63\n",
      "       B-GPE       0.96      0.92      0.94      3146\n",
      "       B-ORG       0.66      0.67      0.66      3953\n",
      "       B-EVE       0.00      0.00      0.00        75\n",
      "       B-ART       0.00      0.00      0.00        78\n",
      "       B-NAT       0.00      0.00      0.00        40\n",
      "       I-GEO       0.81      0.72      0.76      1474\n",
      "       I-ORG       0.73      0.69      0.71      3319\n",
      "       B-PER       0.80      0.80      0.80      3406\n",
      "       I-TIM       0.83      0.66      0.74      1269\n",
      "       I-PER       0.84      0.83      0.83      3575\n",
      "       B-TIM       0.90      0.86      0.88      4052\n",
      "\n",
      "   micro avg       0.96      0.96      0.96    209893\n",
      "   macro avg       0.54      0.50      0.52    209893\n",
      "weighted avg       0.96      0.96      0.96    209893\n",
      "\n"
     ]
    }
   ],
   "source": [
    "#Evaluating the model\n",
    "from sklearn.metrics import classification_report\n",
    "y_pred = model.predict(np.array(X_test))  \n",
    "print(classification_report(np.argmax(y_test, 2).ravel(), \n",
    "                            np.argmax(y_pred, axis=2).ravel(),\n",
    "                            labels=list(idx2tag.keys()), \n",
    "                            target_names=list(idx2tag.values())))"
   ]
  },
  {
   "cell_type": "code",
   "execution_count": 128,
   "metadata": {},
   "outputs": [
    {
     "name": "stdout",
     "output_type": "stream",
     "text": [
      "Word           Actual\tPredicted\n",
      "-----------------------------------\n",
      "Russia         I-ART\tI-ART\n",
      "is             I-NAT\tI-NAT\n",
      "voicing        I-NAT\tI-NAT\n",
      "surprise       I-NAT\tI-NAT\n",
      "at             I-NAT\tI-NAT\n",
      "the            I-NAT\tI-NAT\n",
      "White          B-EVE\tB-EVE\n",
      "House          B-PER\tB-PER\n",
      "move           I-NAT\tI-NAT\n",
      "to             I-NAT\tI-NAT\n",
      "withdraw       I-NAT\tI-NAT\n",
      "a              I-NAT\tI-NAT\n",
      "bilateral      I-NAT\tI-NAT\n",
      "civilian       I-NAT\tI-NAT\n",
      "nuclear        I-NAT\tI-NAT\n",
      "cooperation    I-NAT\tI-NAT\n",
      "agreement      I-NAT\tI-NAT\n",
      "from           I-NAT\tI-NAT\n",
      "consideration  I-NAT\tI-NAT\n",
      "by             I-NAT\tI-NAT\n"
     ]
    }
   ],
   "source": [
    "#Compare actual and predicted tags in a random sample\n",
    "r = np.random.randint(0, X_test.shape[0])\n",
    "y_rand = model.predict(np.array([X_test[r]]))\n",
    "y_rand = np.argmax(y_rand, axis=-1)\n",
    "y_true = np.argmax(np.array(y_test), axis=-1)[r]\n",
    "\n",
    "print(\"{:15}{:5}\\t{}\".format(\"Word\", \"Actual\", \"Predicted\"))\n",
    "print(\"-\"*35)\n",
    "\n",
    "n = 0\n",
    "for (w, t, pred) in zip(X_test[r], y_true, y_rand[0]):\n",
    "    if n==20:\n",
    "        break\n",
    "    else:\n",
    "        print(\"{:15}{}\\t{}\".format(words[w-1], tags[t], tags[pred]))\n",
    "        n+=1"
   ]
  },
  {
   "cell_type": "code",
   "execution_count": 129,
   "metadata": {},
   "outputs": [],
   "source": [
    "#Save model\n",
    "import pickle\n",
    "with open('word_to_index.pickle', 'wb') as f:\n",
    "    pickle.dump(word2idx, f)\n",
    "\n",
    "with open('tag_to_index.pickle', 'wb') as f:\n",
    "    pickle.dump(tag2idx, f)"
   ]
  }
 ],
 "metadata": {
  "kernelspec": {
   "display_name": "Python 3",
   "language": "python",
   "name": "python3"
  },
  "language_info": {
   "codemirror_mode": {
    "name": "ipython",
    "version": 3
   },
   "file_extension": ".py",
   "mimetype": "text/x-python",
   "name": "python",
   "nbconvert_exporter": "python",
   "pygments_lexer": "ipython3",
   "version": "3.8.5"
  }
 },
 "nbformat": 4,
 "nbformat_minor": 4
}
